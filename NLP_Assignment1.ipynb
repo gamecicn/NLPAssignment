{
 "cells": [
  {
   "cell_type": "code",
   "execution_count": 27,
   "metadata": {},
   "outputs": [],
   "source": [
    "import numpy as np\n",
    "import pandas as pd\n",
    "\n",
    "import re\n",
    "import random"
   ]
  },
  {
   "cell_type": "code",
   "execution_count": 28,
   "metadata": {},
   "outputs": [],
   "source": [
    "# Assign file path\n",
    "\n",
    "input_file = \"C:/D/MIDS/IDS 703 NLP/Assignment1/hw1-input.txt\""
   ]
  },
  {
   "cell_type": "code",
   "execution_count": 29,
   "metadata": {},
   "outputs": [
    {
     "data": {
      "text/plain": [
       "['Hi, how are you? ',\n",
       " 'Hello!',\n",
       " \"What's up, chatbot?\",\n",
       " 'Who are you? ',\n",
       " 'What are you?',\n",
       " 'What do you do?',\n",
       " 'Wasssssuuuupppp?',\n",
       " 'Who is the coach of the Duke basketball team?',\n",
       " \"What's the name of Duke's basketball coach?\",\n",
       " 'How long has Mike Krzyzewski coached at Duke?',\n",
       " 'Who is Coach K?',\n",
       " 'Where does Duke play basketball?',\n",
       " 'What is the Duke mascot? ',\n",
       " 'What is Krzyzewskiville?',\n",
       " 'What is K-ville?',\n",
       " '']"
      ]
     },
     "execution_count": 29,
     "metadata": {},
     "output_type": "execute_result"
    }
   ],
   "source": [
    "# Read file and stroe prompts\n",
    "#prompts = []\n",
    "\n",
    "with open(input_file, 'r') as reader:\n",
    "    prompts = reader.read().split('\\n')\n",
    "    \n",
    "prompts"
   ]
  },
  {
   "cell_type": "code",
   "execution_count": 39,
   "metadata": {},
   "outputs": [],
   "source": [
    "match_dict = {\n",
    "    \"(.+)how([ ]+)are([ ]+)you(.+)\"            : [\"I'm fine, thank you.\"], \n",
    "    \".*hello.*\"                                : [\"What can I do for you.\"],\n",
    "    \"(.*)what's([ ]+)up(.*)\"                   : ['Great !', 'The usual.'],\n",
    "    \"(.*)who([ ]+)are([ ]+)you(.*)\"            : ['I\\'m a bot'],\n",
    "    \"(.*)what([ ]+)are([ ]+)you(.*)\"           : ['Guess', \"A bot\"],\n",
    "    \"(.*)what([ ]+)do([ ]+)you([ ]+)do(.*)\"    : ['I\\'m a chatbot'],\n",
    "    \"wa[s]+[u]+[p]+\"                           : ['The usual.', 'Not much.'],\n",
    "    \"who[ ]+(is){0,1}[ ]+(the){0,1}[ ]+coach[ ]+of[ ]+(the){0,1}[ ]+duke[ ]+basketball[ ]+team\" : ['Coach K', 'Mike Krzyzewski'],\n",
    "    \"what('s|[ ]+is)[ ]+the[ ]+name[ ]+of[ ]+duke's[ ]+basketball[ ]+coach\" : [['Coach K', 'Mike Krzyzewski'],\n",
    "    \"how[ ]+long[ ]+(has|have)?[ ]+mike[ ]+(kr\\w{2,8}ki)[ ]+coach(ed)?[ ]+(at)?[ ]+duke\" : ['40 years, I think.'],\n",
    "    \"who('s|[ ]+is)[ ]+coach[ ]+k\" : ['Oh, his name is Mike Krzyzewski. Duke\\'s basketball coach'],\n",
    "    \"where[ ]+(does)?[ ]+duke[ ]+play[ ]+basketball\" :  [\"jjjjjjjjjjjjjjjjjjjjj\"],\n",
    "    \"what('s|[ ]+is)[ ]+(the)?[ ]+duke[ ]+mascot\"    : [\"kkkkkkkkkkkkkkkkkkkkkkkk\"], \n",
    "    \"what('s|[ ]+is)[ ]+kr[zyzewskiville]{4,15}\"     : [ \"lllllllllllllllllll\"],\n",
    "    \"what('s|[ ]+is)[ ]k-ville\"                      :  [\"mmmmmmmmmmmmmmm\"]\n",
    "    \n",
    "}\n",
    "\n",
    "default = [\n",
    "    'Sorry, I cannot understand what you are talking about.',\n",
    "    'I don\\'t want to talk with you now. ',\n",
    "    'You are not smart enough to talk with me.'\n",
    "]"
   ]
  },
  {
   "cell_type": "code",
   "execution_count": 40,
   "metadata": {},
   "outputs": [],
   "source": [
    "def answer(question):\n",
    "    matched=0\n",
    "    for pattern in match_dict:\n",
    "        if re.search(pattern, question.lower()):\n",
    "            matched = 1\n",
    "            ans=random.choice(match_dict[pattern])\n",
    "    if matched==0:\n",
    "        ans=random.choice(default)\n",
    "    print(f'Question: {question}\\nanswer: {ans}',sep='\\n')"
   ]
  },
  {
   "cell_type": "code",
   "execution_count": 41,
   "metadata": {},
   "outputs": [
    {
     "name": "stdout",
     "output_type": "stream",
     "text": [
      "Run test 0\n",
      "Question: Hi, how are you? \n",
      "answer: I'm fine, thank you.\n",
      "\n",
      "\n",
      "\n",
      "Run test 1\n",
      "Question: Hello!\n",
      "answer: What can I do for you.\n",
      "\n",
      "\n",
      "\n",
      "Run test 2\n",
      "Question: What's up, chatbot?\n",
      "answer: aaaaaaaaaaaaaaaa\n",
      "\n",
      "\n",
      "\n",
      "Run test 3\n",
      "Question: Who are you? \n",
      "answer: bbbbbbbbbbbbbbbb\n",
      "\n",
      "\n",
      "\n",
      "Run test 4\n",
      "Question: What are you?\n",
      "answer: ccccccccccccccc\n",
      "\n",
      "\n",
      "\n",
      "Run test 5\n",
      "Question: What do you do?\n",
      "answer: ddddddddddddddddd\n",
      "\n",
      "\n",
      "\n",
      "Run test 6\n",
      "Question: Wasssssuuuupppp?\n",
      "answer: eeeeeeeeeeeeeeeee\n",
      "\n",
      "\n",
      "\n",
      "Run test 7\n",
      "Question: Who is the coach of the Duke basketball team?\n",
      "answer: fffffffffffffffffff\n",
      "\n",
      "\n",
      "\n",
      "Run test 8\n",
      "Question: What's the name of Duke's basketball coach?\n",
      "answer: gggggggggggggggg\n",
      "\n",
      "\n",
      "\n",
      "Run test 9\n",
      "Question: How long has Mike Krzyzewski coached at Duke?\n",
      "answer: hhhhhhhhhhhhhh\n",
      "\n",
      "\n",
      "\n",
      "Run test 10\n",
      "Question: Who is Coach K?\n",
      "answer: iiiiiiiiiiiiiii\n",
      "\n",
      "\n",
      "\n",
      "Run test 11\n",
      "Question: Where does Duke play basketball?\n",
      "answer: jjjjjjjjjjjjjjjjjjjjj\n",
      "\n",
      "\n",
      "\n",
      "Run test 12\n",
      "Question: What is the Duke mascot? \n",
      "answer: kkkkkkkkkkkkkkkkkkkkkkkk\n",
      "\n",
      "\n",
      "\n",
      "Run test 13\n",
      "Question: What is Krzyzewskiville?\n",
      "answer: lllllllllllllllllll\n",
      "\n",
      "\n",
      "\n",
      "Run test 14\n",
      "Question: What is K-ville?\n",
      "answer: mmmmmmmmmmmmmmm\n",
      "\n",
      "\n",
      "\n",
      "Run test 15\n",
      "Question: \n",
      "answer: I don't want to talk with you now. \n",
      "\n",
      "\n",
      "\n"
     ]
    }
   ],
   "source": [
    "for i, prom in enumerate(prompts):\n",
    "    print(\"Run test {}\".format(i))\n",
    "    answer(prom)\n",
    "    print(\"\\n\\n\")"
   ]
  },
  {
   "cell_type": "code",
   "execution_count": null,
   "metadata": {},
   "outputs": [],
   "source": []
  },
  {
   "cell_type": "code",
   "execution_count": null,
   "metadata": {},
   "outputs": [],
   "source": []
  }
 ],
 "metadata": {
  "kernelspec": {
   "display_name": "Python 3",
   "language": "python",
   "name": "python3"
  },
  "language_info": {
   "codemirror_mode": {
    "name": "ipython",
    "version": 3
   },
   "file_extension": ".py",
   "mimetype": "text/x-python",
   "name": "python",
   "nbconvert_exporter": "python",
   "pygments_lexer": "ipython3",
   "version": "3.6.10"
  }
 },
 "nbformat": 4,
 "nbformat_minor": 4
}
