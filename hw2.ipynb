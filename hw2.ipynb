{
 "cells": [
  {
   "cell_type": "markdown",
   "metadata": {},
   "source": [
    "## Assignment 2: Apply TF-IDF to the Inaugural Corpus \n",
    "Our second assignment will have us write code to \n",
    "1. Define or augment a set of stopwords for this problem\n",
    "2. Construct a document-by-term matrix (documents will be rows, terms will be columns), along with a vocabulary while controlling for stopwords\n",
    "3. Write functions to comput TF-IDF and apply those to the document-by-term matrix\n",
    "4. Find the closest historic inaugural address to the 2017 address by President Trump\n",
    "5. Learn to use the PCA transformation and plot the inaugural address along the first two principal components\n",
    "\n",
    "This assignment is to be done individually. Your code should be your own (with the exception of question 5, for which you're free to get some help from the web).\n",
    "\n",
    "**Due Date: 2020-09-02 5 pm ET**\n",
    "\n",
    "Please submit your completed assignment through GradeScope. You should submit a PDF of your notebook with all output."
   ]
  },
  {
   "cell_type": "code",
   "execution_count": 1,
   "metadata": {},
   "outputs": [],
   "source": [
    "import re\n",
    "import math\n",
    "import pandas as pd\n",
    "\n",
    "import nltk\n",
    "from nltk.corpus import stopwords\n",
    "from nltk.corpus import inaugural\n",
    "\n",
    "# Feel free to add your own libs as needed"
   ]
  },
  {
   "cell_type": "code",
   "execution_count": 2,
   "metadata": {},
   "outputs": [],
   "source": [
    "tokenizer = nltk.data.load('tokenizers/punkt/english.pickle')\n",
    "\n",
    "porter    = nltk.PorterStemmer()\n",
    "lancaster = nltk.LancasterStemmer()\n",
    "wnl       = nltk.WordNetLemmatizer()"
   ]
  },
  {
   "cell_type": "code",
   "execution_count": 3,
   "metadata": {},
   "outputs": [
    {
     "data": {
      "text/plain": [
       "[u'1789-Washington.txt',\n",
       " u'1793-Washington.txt',\n",
       " u'1797-Adams.txt',\n",
       " u'1801-Jefferson.txt']"
      ]
     },
     "execution_count": 3,
     "metadata": {},
     "output_type": "execute_result"
    }
   ],
   "source": [
    "inaugural.fileids()[:4]\n"
   ]
  },
  {
   "cell_type": "code",
   "execution_count": 4,
   "metadata": {},
   "outputs": [
    {
     "data": {
      "text/plain": [
       "58"
      ]
     },
     "execution_count": 4,
     "metadata": {},
     "output_type": "execute_result"
    }
   ],
   "source": [
    "len(inaugural.fileids())"
   ]
  },
  {
   "cell_type": "code",
   "execution_count": 5,
   "metadata": {},
   "outputs": [
    {
     "data": {
      "text/plain": [
       "[u'Fellow', u'-', u'Citizens', u'of', u'the', ...]"
      ]
     },
     "execution_count": 5,
     "metadata": {},
     "output_type": "execute_result"
    }
   ],
   "source": [
    "inaugural.words(inaugural.fileids()[0])"
   ]
  },
  {
   "cell_type": "code",
   "execution_count": 6,
   "metadata": {},
   "outputs": [],
   "source": [
    "stop_words = set(stopwords.words('english'))"
   ]
  },
  {
   "cell_type": "markdown",
   "metadata": {},
   "source": [
    "### 1. Stopwords\n",
    "\n",
    "**Update stopwords once you've had a chance to explore the text**\n",
    "\n",
    "Remove all punctuation and strange unicode characters, and anything else you think might be extraneous"
   ]
  },
  {
   "cell_type": "code",
   "execution_count": 7,
   "metadata": {},
   "outputs": [],
   "source": [
    "# here is where you should update the stop words\n",
    "stop_words.update([ '[',']',',', '000', '!', '\"', '\";', '\"?', '$',  \"'\",'(',')','),',',\"','-','--','.','.\"','.)','...','....','.¡¨','1','100','120','125','13','14th','15th','16','18th','1774','1776','1778','1780','1787','1789','1790','1800','1801','1812','1815','1816','1817','1818','1826','1850','1861','1868','1873','1880','1886','1890','1893','1896','1897','1898','1899','1907','1917','1933','1941','1945','1963','1972','1980','1984','19th','2','20','200','200th','2017','20th','21st','225','25','3','30','30th','3d','4','40','400','41','48','4th','5','50','50th','6','60','67','6th','7','8','9',':',';','?','?\"','A',])\n",
    "\n"
   ]
  },
  {
   "cell_type": "markdown",
   "metadata": {},
   "source": [
    "---\n",
    "### 2. Read each inaugural address into an Pandas DataFrame"
   ]
  },
  {
   "cell_type": "markdown",
   "metadata": {},
   "source": [
    "**2.1 Create a vocabulary as a set of all unique stemmed terms in the corpus**"
   ]
  },
  {
   "cell_type": "code",
   "execution_count": 8,
   "metadata": {},
   "outputs": [],
   "source": [
    "vocab = set()"
   ]
  },
  {
   "cell_type": "code",
   "execution_count": 9,
   "metadata": {},
   "outputs": [
    {
     "name": "stdout",
     "output_type": "stream",
     "text": [
      "5339\n"
     ]
    },
    {
     "data": {
      "text/plain": [
       "[u'.\\xa1\\xa8',\n",
       " u'abandon',\n",
       " u'abat',\n",
       " u'abdic',\n",
       " u'abey',\n",
       " u'abhor',\n",
       " u'abid',\n",
       " u'abil',\n",
       " u'abject',\n",
       " u'abl',\n",
       " u'abli',\n",
       " u'abnorm',\n",
       " u'abod',\n",
       " u'abolish',\n",
       " u'aborigin',\n",
       " u'abound',\n",
       " u'abraham',\n",
       " u'abreast',\n",
       " u'abridg',\n",
       " u'abroad']"
      ]
     },
     "execution_count": 9,
     "metadata": {},
     "output_type": "execute_result"
    }
   ],
   "source": [
    "# your code for creating the vocab goes here\n",
    "for inaug in inaugural.fileids():\n",
    "    vocab |= set([x.lower() for x in inaugural.words(inaug)])\n",
    "    \n",
    "#filter with stopwords\n",
    "vocab = set(filter(lambda x : x not in stop_words, vocab))\n",
    "vocab = set([porter.stem(v) for v in list(vocab)])\n",
    "\n",
    "print(len(vocab))\n",
    "sorted(list(vocab))[:20]"
   ]
  },
  {
   "cell_type": "markdown",
   "metadata": {},
   "source": [
    "**2.2 Use your vocabulary now to read each inaugural address into a dataframe**\n",
    "\n",
    "Each row of the dataframe should represent a document (one of the addresses). It may be handy at this time to also track the size (length) of each document, since you'll need this later when computing TF.\n",
    "\n",
    "You should ignore the README file. Hint: use `inaugural.fileids()`."
   ]
  },
  {
   "cell_type": "code",
   "execution_count": 10,
   "metadata": {},
   "outputs": [
    {
     "name": "stdout",
     "output_type": "stream",
     "text": [
      "      a     b     c     d\n",
      "0   2.0   3.0   4.0   NaN\n",
      "1  20.0  30.0  40.0  50.0\n"
     ]
    }
   ],
   "source": [
    "# Feel free to use your own approach but you can iteratively update a dataframe using dictionaries.\n",
    "# Here's an example\n",
    "df =pd.DataFrame()\n",
    "\n",
    "dict1 = {'a':2, 'b':3, 'c':4}\n",
    "dict2 = {'b':30, 'a':20, 'd':50, 'c':40}\n",
    "\n",
    "df = df.append(dict1, ignore_index=True)\n",
    "df = df.append(dict2, ignore_index=True)\n",
    "\n",
    "print(df)"
   ]
  },
  {
   "cell_type": "code",
   "execution_count": 11,
   "metadata": {},
   "outputs": [
    {
     "data": {
      "text/plain": [
       "(58, 5332)"
      ]
     },
     "execution_count": 11,
     "metadata": {},
     "output_type": "execute_result"
    }
   ],
   "source": [
    "from collections import defaultdict \n",
    "\n",
    "df = pd.DataFrame()\n",
    "# your code for creating the dataframe goes here.\n",
    "# the resulting dataframe should be called \"df\"\n",
    "#\n",
    "# Each row of the dataframe should represent a document (inaugural address)\n",
    "# Each column of the dataframe should be a term from the vocab\n",
    "\n",
    "sizearr = []\n",
    "\n",
    "for index, inaug in enumerate(inaugural.fileids()):\n",
    "    td = defaultdict(int)\n",
    "    \n",
    "    words = list(filter(lambda x: porter.stem(x) in vocab, inaugural.words(inaug)))\n",
    "    sizearr.append(len(words))\n",
    "    \n",
    "    for w in words:\n",
    "        w = porter.stem(w)\n",
    "        td[w] += 1\n",
    "        \n",
    "    df = df.append(td, ignore_index=True)\n",
    "    \n",
    "df.fillna(0, inplace=True)\n",
    "    \n",
    "df.shape"
   ]
  },
  {
   "cell_type": "code",
   "execution_count": 12,
   "metadata": {},
   "outputs": [
    {
     "data": {
      "text/plain": [
       "58"
      ]
     },
     "execution_count": 12,
     "metadata": {},
     "output_type": "execute_result"
    }
   ],
   "source": [
    "len(inaugural.fileids())\n"
   ]
  },
  {
   "cell_type": "markdown",
   "metadata": {},
   "source": [
    "---\n",
    "### 3. Compute TF-IDF for the document-term matrix ###"
   ]
  },
  {
   "cell_type": "markdown",
   "metadata": {},
   "source": [
    "**3.1. Write a function to compute term frequency (TF) for each document**\n",
    "\n",
    "Please write your own code here, and resist the urge to rely on google for your answer."
   ]
  },
  {
   "cell_type": "code",
   "execution_count": 13,
   "metadata": {},
   "outputs": [],
   "source": [
    "# compute term frequency\n",
    "# inputs: wordvec is a series that contains, for a given doc, \n",
    "#                 the word counts for each term in the vocab\n",
    "#         doclen  is the length of the document\n",
    "# returns: a series with new term-frequencies (raw counts divided by doc length)\n",
    "def computetf(wordvec,doclen):\n",
    "    return wordvec/doclen"
   ]
  },
  {
   "cell_type": "markdown",
   "metadata": {},
   "source": [
    "**3.2 Write a function to comput inverse document frequency**\n",
    "\n",
    "Please write your own code here and resiste the urge to rely on google for your answer."
   ]
  },
  {
   "cell_type": "code",
   "execution_count": 14,
   "metadata": {},
   "outputs": [],
   "source": [
    "import math # you may need this for the log function\n",
    "\n",
    "# input:   document-by-term (row-by-column) dataframe\n",
    "# returns: dictionary of key-value pairs. Keys are terms in the vocab, values are IDF.\n",
    "\n",
    "def computeidf(df):\n",
    "    idf = dict()\n",
    "    \n",
    "    for w, v in  df.iteritems():\n",
    "        idf[w] = math.log( (df.shape[0]+1) / (sum(v != 0)+1) )\n",
    "        \n",
    "    return idf\n",
    "        "
   ]
  },
  {
   "cell_type": "markdown",
   "metadata": {},
   "source": [
    "**Create a new dataframe and populate it with the TF-IDF values for each document-term combination**\n",
    "\n",
    "The functions your write above should work with the below code snippet."
   ]
  },
  {
   "cell_type": "code",
   "execution_count": 15,
   "metadata": {},
   "outputs": [],
   "source": [
    "newdf = pd.DataFrame()\n",
    "\n",
    "idfdict = computeidf(df)\n",
    "\n",
    "cols = df.columns\n",
    "for index, row in df.iterrows():\n",
    "    newrow = computetf(row,sizearr[index])\n",
    "    for c in cols:\n",
    "        newrow[c] = newrow[c]*idfdict[c]\n",
    "    newdf = newdf.append(newrow)"
   ]
  },
  {
   "cell_type": "code",
   "execution_count": 16,
   "metadata": {},
   "outputs": [
    {
     "data": {
      "text/plain": [
       "(58, 5332)"
      ]
     },
     "execution_count": 16,
     "metadata": {},
     "output_type": "execute_result"
    }
   ],
   "source": [
    "newdf.shape"
   ]
  },
  {
   "cell_type": "markdown",
   "metadata": {},
   "source": [
    "---\n",
    "### 4. Using TF-IDF values, find and rank order the 3 closest inaugural addresses to Donald Trump's 2017 address, measured by cosine similarity"
   ]
  },
  {
   "cell_type": "code",
   "execution_count": 17,
   "metadata": {},
   "outputs": [],
   "source": [
    "# President Trump's address is 57 (0-indexed)\n",
    "# newdf.iloc[57,:].head(100)"
   ]
  },
  {
   "cell_type": "markdown",
   "metadata": {},
   "source": [
    "**4.1 Create an array called dist that contains the cosine similarity distance between the 2017 inaugural address (called d1 below) and each of the inaugural addresses**"
   ]
  },
  {
   "cell_type": "code",
   "execution_count": 18,
   "metadata": {},
   "outputs": [],
   "source": [
    "d1 = newdf.iloc[57,:]\n",
    "dist = []\n",
    "for index,row in newdf[:57].iterrows():\n",
    "    # your code goes here\n",
    "    dist.append((index, sum(row * d1) /(pow(sum(row*row),0.5) *  pow(sum(d1*d1),0.5))))\n"
   ]
  },
  {
   "cell_type": "code",
   "execution_count": 19,
   "metadata": {},
   "outputs": [
    {
     "data": {
      "text/plain": [
       "[(0L, 0.01851300076480523),\n",
       " (1L, 0.019031918868644703),\n",
       " (2L, 0.03202884906559284),\n",
       " (3L, 0.032131155116347974),\n",
       " (4L, 0.04167487339128591),\n",
       " (5L, 0.018962150699537363),\n",
       " (6L, 0.02318538070964928),\n",
       " (7L, 0.04207380040124407),\n",
       " (8L, 0.03437629457628265),\n",
       " (9L, 0.039997095546599734),\n",
       " (10L, 0.02061512232548776),\n",
       " (11L, 0.024902292157839175),\n",
       " (12L, 0.03943150986266335),\n",
       " (13L, 0.05978199665686425),\n",
       " (14L, 0.05444295607014657),\n",
       " (15L, 0.040540763115262474),\n",
       " (16L, 0.0434655395189752),\n",
       " (17L, 0.04838097453919163),\n",
       " (18L, 0.03305975133633208),\n",
       " (19L, 0.026646753242650822),\n",
       " (20L, 0.04568834391080482),\n",
       " (21L, 0.02871105510549241),\n",
       " (22L, 0.024726995710309424),\n",
       " (23L, 0.05456100197839824),\n",
       " (24L, 0.04365255580408194),\n",
       " (25L, 0.05596719535516945),\n",
       " (26L, 0.038207961857692777),\n",
       " (27L, 0.050496648580337186),\n",
       " (28L, 0.039743820970027786),\n",
       " (29L, 0.04467401992552526),\n",
       " (30L, 0.04722994256747082),\n",
       " (31L, 0.07149115134879953),\n",
       " (32L, 0.04083116652933862),\n",
       " (33L, 0.05811234689213477),\n",
       " (34L, 0.06028963769607792),\n",
       " (35L, 0.06447443990450219),\n",
       " (36L, 0.05861003996997358),\n",
       " (37L, 0.08890923535168316),\n",
       " (38L, 0.048481205360324756),\n",
       " (39L, 0.05970106258693932),\n",
       " (40L, 0.047082795815221457),\n",
       " (41L, 0.08929786223637581),\n",
       " (42L, 0.08480954672554286),\n",
       " (43L, 0.08857836495517138),\n",
       " (44L, 0.05730441432830539),\n",
       " (45L, 0.17895575090148066),\n",
       " (46L, 0.06277068120046182),\n",
       " (47L, 0.07912187317185804),\n",
       " (48L, 0.14887466502504912),\n",
       " (49L, 0.1210807670338562),\n",
       " (50L, 0.1526380698680619),\n",
       " (51L, 0.16024687597564677),\n",
       " (52L, 0.16796242075521256),\n",
       " (53L, 0.106208424793589),\n",
       " (54L, 0.05220396990332466),\n",
       " (55L, 0.16865500771246822),\n",
       " (56L, 0.1944621315709343)]"
      ]
     },
     "execution_count": 19,
     "metadata": {},
     "output_type": "execute_result"
    }
   ],
   "source": [
    "dist"
   ]
  },
  {
   "cell_type": "markdown",
   "metadata": {},
   "source": [
    "**4.2 Find the 3 closest associated inaugural address, when measured by cosign similarity. Which one is the closest?**"
   ]
  },
  {
   "cell_type": "code",
   "execution_count": 20,
   "metadata": {},
   "outputs": [
    {
     "name": "stdout",
     "output_type": "stream",
     "text": [
      "Top3 closest associated inaugural address with Trump's address\n",
      "[0] \t File: [2013-Obama.txt] \t\t Similarity[0.194462131571]\n",
      "[1] \t File: [1969-Nixon.txt] \t\t Similarity[0.178955750901]\n",
      "[2] \t File: [2009-Obama.txt] \t\t Similarity[0.168655007712]\n",
      "\n",
      " \n",
      "The closest is : \n",
      "2013-Obama.txt\n"
     ]
    }
   ],
   "source": [
    "top3 = sorted(dist, key=lambda x: x[1], reverse=True)[:3]\n",
    "\n",
    "print(\"Top3 closest associated inaugural address with Trump's address\")\n",
    "\n",
    "for index, a in enumerate(top3):\n",
    "    print(\"[{}] \\t File: [{}] \\t\\t Similarity[{}]\".format(index, inaugural.fileids()[a[0]], a[1]))\n",
    "    \n",
    "print(\"\\n \\nThe closest is : \\n{}\".format(inaugural.fileids()[top3[0][0]]))"
   ]
  },
  {
   "cell_type": "markdown",
   "metadata": {},
   "source": [
    "**4.3 What is your explanation/understanding of why these documents are \"close\" to the 2017? Please explain."
   ]
  },
  {
   "cell_type": "markdown",
   "metadata": {},
   "source": [
    "These documents' cosine similarity values are the highest. \n",
    "Maybe 2013's address is the closest one to 2017 in terms of time. Hence they have more common topics than other inauguration addresses. \n",
    "Nixon is a famous Republican president. \n",
    "Obama is Trump's precedent; maybe that is why Trump mentions him most. "
   ]
  },
  {
   "cell_type": "markdown",
   "metadata": {},
   "source": [
    "---\n",
    "### 5. Compute the first two principal components of the TF-IDF matrix, and plot each document along each of the PCA components\n",
    "For this question, feel free to use google, stackoverflow, etc to help you compute the PCA (it's pretty easy, just one or two lines). Don't worry too much about the theory for now - we're going to discuss the Principal Component Decomposition later in the semester."
   ]
  },
  {
   "cell_type": "code",
   "execution_count": 21,
   "metadata": {},
   "outputs": [],
   "source": [
    "from sklearn.decomposition import PCA\n",
    "import matplotlib.pyplot as plt"
   ]
  },
  {
   "cell_type": "code",
   "execution_count": 22,
   "metadata": {},
   "outputs": [],
   "source": [
    "# your code to compute the PCA goes here\n",
    "# The result should be X, an array of 2-element arrays\n",
    "pca = PCA(n_components=2)\n",
    "X = pca.fit_transform(newdf)\n"
   ]
  },
  {
   "cell_type": "code",
   "execution_count": 23,
   "metadata": {},
   "outputs": [
    {
     "data": {
      "text/plain": [
       "array([[-5.62974526e-04,  3.46089673e-03],\n",
       "       [ 1.39529150e-01, -8.58523784e-05],\n",
       "       [-1.98547876e-03,  1.13473425e-03],\n",
       "       [-2.07109200e-03,  6.06698379e-04],\n",
       "       [-1.09373019e-03,  1.72259851e-03],\n",
       "       [-2.09231920e-03,  1.90903568e-03],\n",
       "       [-1.86543048e-03,  2.28344003e-03],\n",
       "       [-1.88802123e-03,  1.51701511e-03],\n",
       "       [-1.32643968e-03,  2.90154416e-03],\n",
       "       [-1.93252870e-03,  1.20526599e-03],\n",
       "       [-2.16798605e-03,  3.17727441e-03],\n",
       "       [-2.60658481e-03,  1.15871033e-03],\n",
       "       [-1.61992890e-03,  2.64945569e-03],\n",
       "       [-1.88871982e-03,  1.89910972e-03],\n",
       "       [-1.74094771e-03,  1.49922018e-03],\n",
       "       [-1.61233317e-03,  2.10446443e-03],\n",
       "       [-2.27936793e-03,  9.90546403e-04],\n",
       "       [-1.31144426e-03,  2.55743661e-03],\n",
       "       [-1.79961348e-03,  3.28903140e-03],\n",
       "       [-3.53580683e-03,  6.82536934e-02],\n",
       "       [-2.93776445e-03,  1.96361367e-03],\n",
       "       [-2.70290629e-03,  2.04177986e-03],\n",
       "       [-2.38624175e-03,  2.88302174e-03],\n",
       "       [-1.15799446e-03,  1.63688993e-03],\n",
       "       [-1.45320066e-03,  1.58253813e-03],\n",
       "       [-1.88167929e-03,  1.78258131e-03],\n",
       "       [-2.31628290e-03,  6.95756525e-04],\n",
       "       [-2.79922085e-03,  1.31641940e-03],\n",
       "       [-2.82010046e-03,  1.82660389e-03],\n",
       "       [-3.30961311e-03, -1.99922579e-03],\n",
       "       [-1.50550368e-03,  1.78150298e-03],\n",
       "       [-3.02677835e-03, -1.71803564e-03],\n",
       "       [-3.09760402e-03,  5.25712912e-04],\n",
       "       [-2.84209468e-03, -3.80287015e-04],\n",
       "       [-2.58904107e-03,  3.64930364e-04],\n",
       "       [-2.65867430e-03, -7.63689596e-04],\n",
       "       [-3.10516579e-03, -1.61964445e-03],\n",
       "       [-3.11188440e-03, -4.91455363e-03],\n",
       "       [-3.10536745e-03, -2.11121190e-03],\n",
       "       [-3.73542792e-03, -1.55339805e-02],\n",
       "       [-2.54931798e-03, -2.61371487e-03],\n",
       "       [-2.70073438e-03, -6.17849496e-04],\n",
       "       [-2.87067873e-03, -1.94022736e-03],\n",
       "       [-3.18181255e-03, -2.81352511e-03],\n",
       "       [-3.21815443e-03, -2.86065961e-03],\n",
       "       [-2.24319986e-03, -5.79007905e-03],\n",
       "       [-3.01574433e-03, -3.22460522e-03],\n",
       "       [-2.32654593e-03, -5.13745743e-03],\n",
       "       [-2.89428515e-03, -4.12953152e-03],\n",
       "       [-3.23050965e-03, -4.38347983e-03],\n",
       "       [-3.35032275e-03, -4.93168524e-03],\n",
       "       [-2.73513410e-03, -6.95207106e-03],\n",
       "       [-3.37530159e-03, -5.39158476e-03],\n",
       "       [-2.57592576e-03, -5.41963413e-03],\n",
       "       [-2.11820691e-03, -1.99226649e-02],\n",
       "       [-3.45648577e-03, -4.10152262e-03],\n",
       "       [-3.32592142e-03, -6.04199805e-03],\n",
       "       [-2.43757489e-03, -7.32275084e-03]])"
      ]
     },
     "execution_count": 23,
     "metadata": {},
     "output_type": "execute_result"
    }
   ],
   "source": [
    "len(X)\n",
    "X"
   ]
  },
  {
   "cell_type": "code",
   "execution_count": 24,
   "metadata": {},
   "outputs": [
    {
     "data": {
      "image/png": "[encoded data removed]",
      "text/plain": [
       "<Figure size 432x288 with 1 Axes>"
      ]
     },
     "metadata": {
      "needs_background": "light"
     },
     "output_type": "display_data"
    }
   ],
   "source": [
    "plt.scatter(X[:, 0], X[:, 1], alpha=0.2)\n",
    "plt.axis('equal');\n",
    "for i in range(0,58):\n",
    "    plt.text(X[i,0],X[i,1],inaugural.fileids()[i])"
   ]
  },
  {
   "cell_type": "code",
   "execution_count": null,
   "metadata": {},
   "outputs": [],
   "source": []
  },
  {
   "cell_type": "code",
   "execution_count": null,
   "metadata": {},
   "outputs": [],
   "source": []
  },
  {
   "cell_type": "code",
   "execution_count": null,
   "metadata": {},
   "outputs": [],
   "source": []
  }
 ],
 "metadata": {
  "kernelspec": {
   "display_name": "Python 3",
   "language": "python",
   "name": "python3"
  },
  "language_info": {
   "codemirror_mode": {
    "name": "ipython",
    "version": 3
   },
   "file_extension": ".py",
   "mimetype": "text/x-python",
   "name": "python",
   "nbconvert_exporter": "python",
   "pygments_lexer": "ipython3",
   "version": "3.6.10"
  }
 },
 "nbformat": 4,
 "nbformat_minor": 4
}
